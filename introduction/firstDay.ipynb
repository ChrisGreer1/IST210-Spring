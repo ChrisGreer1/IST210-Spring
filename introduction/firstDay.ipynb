{
  "nbformat": 4,
  "nbformat_minor": 0,
  "metadata": {
    "colab": {
      "name": "Untitled0.ipynb",
      "provenance": [],
      "authorship_tag": "ABX9TyO3i3v3XMCZvOv1qTawW2S2",
      "include_colab_link": true
    },
    "kernelspec": {
      "name": "python3",
      "display_name": "Python 3"
    }
  },
  "cells": [
    {
      "cell_type": "markdown",
      "metadata": {
        "id": "view-in-github",
        "colab_type": "text"
      },
      "source": [
        "<a href=\"https://colab.research.google.com/github/ChrisGreer1/IST210-Spring/blob/master/introduction/firstDay.ipynb\" target=\"_parent\"><img src=\"https://colab.research.google.com/assets/colab-badge.svg\" alt=\"Open In Colab\"/></a>"
      ]
    },
    {
      "cell_type": "code",
      "metadata": {
        "id": "vx7dkxv-za3p",
        "colab_type": "code",
        "colab": {
          "base_uri": "https://localhost:8080/",
          "height": 34
        },
        "outputId": "b3efd0dc-0f5b-4763-8030-8bfee165f28f"
      },
      "source": [
        "2+2"
      ],
      "execution_count": 2,
      "outputs": [
        {
          "output_type": "execute_result",
          "data": {
            "text/plain": [
              "4"
            ]
          },
          "metadata": {
            "tags": []
          },
          "execution_count": 2
        }
      ]
    },
    {
      "cell_type": "code",
      "metadata": {
        "id": "nZJlQW-HzwD_",
        "colab_type": "code",
        "colab": {}
      },
      "source": [
        ""
      ],
      "execution_count": 0,
      "outputs": []
    },
    {
      "cell_type": "markdown",
      "metadata": {
        "id": "S2qSZKwGzj6K",
        "colab_type": "text"
      },
      "source": [
        "2+2 **hello**"
      ]
    },
    {
      "cell_type": "markdown",
      "metadata": {
        "id": "QQUS41Sw0oNT",
        "colab_type": "text"
      },
      "source": [
        "##this is a header"
      ]
    },
    {
      "cell_type": "code",
      "metadata": {
        "id": "3YOVciXEzkLj",
        "colab_type": "code",
        "colab": {}
      },
      "source": [
        ""
      ],
      "execution_count": 0,
      "outputs": []
    },
    {
      "cell_type": "markdown",
      "metadata": {
        "id": "44a77duc4Jm5",
        "colab_type": "text"
      },
      "source": [
        "![alt text](https://raw.githubusercontent.com/ChrisGreer1/IST210-Spring/master/introduction/IMG_3422.JPG)"
      ]
    }
  ]
}
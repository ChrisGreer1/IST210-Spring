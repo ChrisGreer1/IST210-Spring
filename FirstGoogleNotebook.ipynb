{
  "nbformat": 4,
  "nbformat_minor": 0,
  "metadata": {
    "colab": {
      "name": "First Google Notebook.ipynb",
      "provenance": [],
      "authorship_tag": "ABX9TyOPKadySv7ySSCiiMd3BeHs",
      "include_colab_link": true
    },
    "kernelspec": {
      "name": "python3",
      "display_name": "Python 3"
    }
  },
  "cells": [
    {
      "cell_type": "markdown",
      "metadata": {
        "id": "view-in-github",
        "colab_type": "text"
      },
      "source": [
        "<a href=\"https://colab.research.google.com/github/ChrisGreer1/IST210-Spring/blob/master/FirstGoogleNotebook.ipynb\" target=\"_parent\"><img src=\"https://colab.research.google.com/assets/colab-badge.svg\" alt=\"Open In Colab\"/></a>"
      ]
    },
    {
      "cell_type": "markdown",
      "metadata": {
        "id": "XS6XX78LE6lE",
        "colab_type": "text"
      },
      "source": [
        "##Name"
      ]
    },
    {
      "cell_type": "markdown",
      "metadata": {
        "id": "3r5fAQxwFFLQ",
        "colab_type": "text"
      },
      "source": [
        "Christopher Greer"
      ]
    },
    {
      "cell_type": "markdown",
      "metadata": {
        "id": "Wt4VOuzGFIjS",
        "colab_type": "text"
      },
      "source": [
        "##IST Related Interests"
      ]
    },
    {
      "cell_type": "markdown",
      "metadata": {
        "id": "iQLU3kdMFNTb",
        "colab_type": "text"
      },
      "source": [
        "Java programming, Organizational Data, Business use of IT"
      ]
    },
    {
      "cell_type": "markdown",
      "metadata": {
        "id": "Z3D09XmUFSCE",
        "colab_type": "text"
      },
      "source": [
        "##Future Career"
      ]
    },
    {
      "cell_type": "markdown",
      "metadata": {
        "id": "rvJWCpy1FbHg",
        "colab_type": "text"
      },
      "source": [
        "Something involving data and analytics issues within corporations"
      ]
    },
    {
      "cell_type": "markdown",
      "metadata": {
        "id": "HnyUbKSBGQ9L",
        "colab_type": "text"
      },
      "source": [
        "![alt text](https://raw.githubusercontent.com/ChrisGreer1/IST210-Spring/master/IMG_2623.JPG)"
      ]
    }
  ]
}